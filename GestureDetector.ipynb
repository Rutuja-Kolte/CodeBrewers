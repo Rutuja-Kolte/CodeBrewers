{
  "nbformat": 4,
  "nbformat_minor": 0,
  "metadata": {
    "colab": {
      "name": "GestureDetector.ipynb",
      "provenance": [],
      "collapsed_sections": [],
      "authorship_tag": "ABX9TyOKCJ7Dc7oE4a5B5wQrB7LV",
      "include_colab_link": true
    },
    "kernelspec": {
      "name": "python3",
      "display_name": "Python 3"
    }
  },
  "cells": [
    {
      "cell_type": "markdown",
      "metadata": {
        "id": "view-in-github",
        "colab_type": "text"
      },
      "source": [
        "<a href=\"https://colab.research.google.com/github/Rutuja-Kolte/CodeBrewers/blob/master/GestureDetector.ipynb\" target=\"_parent\"><img src=\"https://colab.research.google.com/assets/colab-badge.svg\" alt=\"Open In Colab\"/></a>"
      ]
    },
    {
      "cell_type": "markdown",
      "metadata": {
        "id": "DXvmn4I5owWJ",
        "colab_type": "text"
      },
      "source": [
        "**Setting Up**"
      ]
    },
    {
      "cell_type": "code",
      "metadata": {
        "id": "l20Rj1HP7LB-",
        "colab_type": "code",
        "colab": {}
      },
      "source": [
        "#To import everything required\n",
        "\n",
        "from google.colab import files\n",
        "import os\n",
        "\n",
        "# TensorFlow and tf.keras\n",
        "import tensorflow as tf\n",
        "from tensorflow import keras\n",
        "\n",
        "# Helper libraries\n",
        "import numpy as np\n",
        "import cv2\n",
        "import pandas as pd\n",
        "\n",
        "# To show images\n",
        "from google.colab.patches import cv2_imshow"
      ],
      "execution_count": null,
      "outputs": []
    },
    {
      "cell_type": "code",
      "metadata": {
        "id": "e20hNMB9sbGN",
        "colab_type": "code",
        "colab": {}
      },
      "source": [
        "# To mount drive and access files from it\n",
        "\n",
        "from google.colab import drive\n",
        "drive.mount('/content/drive')"
      ],
      "execution_count": null,
      "outputs": []
    },
    {
      "cell_type": "code",
      "metadata": {
        "id": "73sCGCnDsgw0",
        "colab_type": "code",
        "colab": {}
      },
      "source": [
        "# Used to create a symbolic link (symlink)\n",
        "\n",
        "!ln -s \"/content/drive/My Drive/CodeBrewers\" \"/content/CodeBrewers\""
      ],
      "execution_count": null,
      "outputs": []
    },
    {
      "cell_type": "code",
      "metadata": {
        "id": "Lzdh8xGTNQaj",
        "colab_type": "code",
        "colab": {}
      },
      "source": [
        "# To load pre-trained model\n",
        "\n",
        "model = keras.models.load_model('/content/CodeBrewers/GestureRecognition.h5')"
      ],
      "execution_count": null,
      "outputs": []
    },
    {
      "cell_type": "markdown",
      "metadata": {
        "id": "NMHX6dYRo96U",
        "colab_type": "text"
      },
      "source": [
        "**Function for Getting Image from Webcam**"
      ]
    },
    {
      "cell_type": "code",
      "metadata": {
        "colab_type": "code",
        "id": "SucxddsPhOmj",
        "colab": {}
      },
      "source": [
        "# To use a webcam to capture images for processing on the runtime\n",
        "\n",
        "from IPython.display import display, Javascript\n",
        "from google.colab.output import eval_js\n",
        "from base64 import b64decode\n",
        "\n",
        "def take_photo(filename='photo.jpg', quality=0.8):\n",
        "  js = Javascript('''\n",
        "    async function takePhoto(quality) {\n",
        "      const video = document.createElement('video');\n",
        "      video.style.display = 'block';\n",
        "      const stream = await navigator.mediaDevices.getUserMedia({video: true});\n",
        "      video.srcObject = stream;\n",
        "      await video.play();\n",
        "      google.colab.output.setIframeHeight(document.documentElement.scrollHeight, true); // Resizes the output to fit the video element\n",
        "      const canvas = document.createElement('canvas');\n",
        "      canvas.width = video.videoWidth;\n",
        "      canvas.height = video.videoHeight;\n",
        "      canvas.getContext('2d').drawImage(video, 0, 0);\n",
        "      stream.getVideoTracks()[0].stop();\n",
        "      return canvas.toDataURL('image/jpeg', quality);\n",
        "    }\n",
        "    ''')\n",
        "  display(js)\n",
        "  data = eval_js('takePhoto({})'.format(quality))\n",
        "  binary = b64decode(data.split(',')[1])\n",
        "  with open(filename, 'wb') as f:\n",
        "    f.write(binary)\n",
        "  return filename"
      ],
      "execution_count": null,
      "outputs": []
    },
    {
      "cell_type": "markdown",
      "metadata": {
        "id": "ZCoU93vopHGg",
        "colab_type": "text"
      },
      "source": [
        "**Predicting Hand Gestures Using the Model**"
      ]
    },
    {
      "cell_type": "code",
      "metadata": {
        "colab_type": "code",
        "id": "buJCl90WhNfq",
        "colab": {}
      },
      "source": [
        "from IPython.display import Image\n",
        "gesture = (\"down\", \"palm\", \"l\", \"fist\", \"fist_moved\", \"thumb\", \"index\", \"ok\", \"palm_moved\", \"c\")\n",
        "filename = take_photo()\n",
        "img = cv2.imread('/content/photo.jpg')  # To get the picture taken from webcam\n",
        "img = cv2.cvtColor(img, cv2.COLOR_BGR2GRAY) # Changes from BGR color space to gray\n",
        "img = cv2.resize(img, (320, 120)) # To reduce image size\n",
        "img = np.array(img)\n",
        "img = np.reshape(img, (120,320,1))\n",
        "# Modifies the data type, setting it to 32-bit floating point \n",
        "averageValue1 = np.float32(img)\n",
        "while True:\n",
        "  try:\n",
        "    filename = take_photo()\n",
        "    img = cv2.imread('/content/photo.jpg')  # Reads the picture taken from webcam\n",
        "    img = cv2.cvtColor(img, cv2.COLOR_BGR2GRAY) # Changes image color space from BGR to gray\n",
        "    img = cv2.resize(img, (320, 120)) # Makes image smaller\n",
        "    img = np.array(img)\n",
        "    img = np.reshape(img, (120,320,1))\n",
        "    cv2.accumulateWeighted(img, averageValue1, 0.02)  # Updates the running average\n",
        "    resultingFrames1 = cv2.convertScaleAbs(averageValue1) # Converts the matrix elements to absolute values and converts the result to 8-bit\n",
        "    resultingFrames1 = np.reshape(resultingFrames1, (120,320,1))\n",
        "    cv2_imshow(img) # Original image\n",
        "    cv2_imshow(resultingFrames1)  # Background using Running Average Method\n",
        "    m = cv2.subtract(img,resultingFrames1)  # Foreground by subtracting background from original image\n",
        "    m = np.reshape(m, (120,320,1))\n",
        "    cv2_imshow(m)\n",
        "    prediction = model.predict(np.expand_dims(m, axis = 0)) # Makes predictions\n",
        "    ans = np.argmax(prediction[0])\n",
        "    print(prediction[0][ans]) # Prints probability of prediction\n",
        "    print(gesture[ans]) # Prints predicted gesture\n",
        "  except Exception as err:\n",
        "    # Errors will be thrown if the user does not have a webcam or if they do not grant the page permission to access it\n",
        "    print(str(err))"
      ],
      "execution_count": null,
      "outputs": []
    }
  ]
}