{
  "nbformat": 4,
  "nbformat_minor": 0,
  "metadata": {
    "colab": {
      "name": "CodeBrewers.ipynb",
      "provenance": [],
      "collapsed_sections": [],
      "include_colab_link": true
    },
    "kernelspec": {
      "name": "python3",
      "display_name": "Python 3"
    }
  },
  "cells": [
    {
      "cell_type": "markdown",
      "metadata": {
        "id": "view-in-github",
        "colab_type": "text"
      },
      "source": [
        "<a href=\"https://colab.research.google.com/github/Rutuja-Kolte/CodeBrewers/blob/master/CodeBrewers.ipynb\" target=\"_parent\"><img src=\"https://colab.research.google.com/assets/colab-badge.svg\" alt=\"Open In Colab\"/></a>"
      ]
    },
    {
      "cell_type": "markdown",
      "metadata": {
        "id": "6Ab9iYzdgmO7",
        "colab_type": "text"
      },
      "source": [
        " **Setting Up**"
      ]
    },
    {
      "cell_type": "code",
      "metadata": {
        "id": "l20Rj1HP7LB-",
        "colab_type": "code",
        "colab": {}
      },
      "source": [
        "# To import everything needed for the project\n",
        "\n",
        "%matplotlib inline\n",
        "from google.colab import files\n",
        "import os\n",
        "\n",
        "# TensorFlow and tf.keras\n",
        "import tensorflow as tf\n",
        "from tensorflow import keras\n",
        "\n",
        "# Helper libraries\n",
        "import numpy as np\n",
        "import matplotlib.pyplot as plt\n",
        "import cv2\n",
        "import pandas as pd"
      ],
      "execution_count": 1,
      "outputs": []
    },
    {
      "cell_type": "code",
      "metadata": {
        "id": "bkj0ogQ-T2CP",
        "colab_type": "code",
        "colab": {}
      },
      "source": [
        "# To mount drive and access files from it\n",
        "\n",
        "from google.colab import drive\n",
        "drive.mount('/content/drive')"
      ],
      "execution_count": null,
      "outputs": []
    },
    {
      "cell_type": "code",
      "metadata": {
        "id": "mFovU4N8VbdF",
        "colab_type": "code",
        "colab": {}
      },
      "source": [
        "# Used to create a symbolic link (symlink)\n",
        "\n",
        "!ln -s \"/content/drive/My Drive/CodeBrewers\" \"/content/CodeBrewers\""
      ],
      "execution_count": 3,
      "outputs": []
    },
    {
      "cell_type": "code",
      "metadata": {
        "id": "pA0yTcvL_F_Z",
        "colab_type": "code",
        "colab": {}
      },
      "source": [
        "# To unzip files (images) from proj.zip\n",
        "\n",
        "!unzip /content/CodeBrewers/proj.zip"
      ],
      "execution_count": null,
      "outputs": []
    },
    {
      "cell_type": "markdown",
      "metadata": {
        "id": "9HkBcqD9g6MR",
        "colab_type": "text"
      },
      "source": [
        "**Loading Images**"
      ]
    },
    {
      "cell_type": "code",
      "metadata": {
        "id": "jRsNYIIoCmXp",
        "colab_type": "code",
        "colab": {}
      },
      "source": [
        "# To get all the paths for the images to later load them\n",
        "imagepaths = []\n",
        "# To go through all the files and subdirectories inside the folder and save the path to the list\n",
        "for root, dirs, files in os.walk(\".\", topdown=False): \n",
        "  for name in files:\n",
        "    path = os.path.join(root, name)\n",
        "    if path.endswith(\"png\"):  # To append only images\n",
        "      imagepaths.append(path)\n",
        "print(len(imagepaths))"
      ],
      "execution_count": null,
      "outputs": []
    },
    {
      "cell_type": "code",
      "metadata": {
        "id": "ps9mMyvx_MQR",
        "colab_type": "code",
        "colab": {}
      },
      "source": [
        "# Plots image for debugging\n",
        "def plot_image(path):\n",
        "  img = cv2.imread(path)  # Reads the image into a numpy array\n",
        "  img_cvt = cv2.cvtColor(img, cv2.COLOR_BGR2GRAY) # To convert the original image from the BGR color space to gray\n",
        "  print(img_cvt.shape)  # Prints the shape of the image\n",
        "  plt.grid(False) # To plot image without grid\n",
        "  plt.imshow(img_cvt) # Shows the image\n",
        "  plt.xlabel(\"Width\")\n",
        "  plt.ylabel(\"Height\")\n",
        "  plt.title(\"Image \" + path)"
      ],
      "execution_count": 6,
      "outputs": []
    },
    {
      "cell_type": "code",
      "metadata": {
        "id": "BJoQM_Yk__AX",
        "colab_type": "code",
        "colab": {}
      },
      "source": [
        "plot_image(imagepaths[0]) # Plots the first image from the imagepaths array"
      ],
      "execution_count": null,
      "outputs": []
    },
    {
      "cell_type": "code",
      "metadata": {
        "id": "LuQLrqJ2ZmOM",
        "colab_type": "code",
        "colab": {}
      },
      "source": [
        "# To load all the images into an array, X, and all the labels into an array, Y\n",
        "\n",
        "X = []\n",
        "Y = []\n",
        "for path in imagepaths:\n",
        "  img = cv2.imread(path)\n",
        "  img = cv2.cvtColor(img, cv2.COLOR_BGR2GRAY)\n",
        "  img = cv2.resize(img, (320, 120)) # Reduces image size\n",
        "  X.append(img)\n",
        "  category = path.split(\"/\")[3] # To get label from path\n",
        "  label = int(category.split(\"_\")[0][1])\n",
        "  Y.append(label)\n",
        "# To convert X and Y into numpy arrays\n",
        "X = np.array(X, dtype=\"uint8\")\n",
        "X = X.reshape(len(imagepaths), 120, 320, 1)\n",
        "Y = np.array(Y)\n",
        "print(\"Images loaded: \", len(X))\n",
        "print(\"Labels loaded: \", len(Y))\n",
        "print(Y[0], imagepaths[0])  # Prints label and path of 1st image for debugging"
      ],
      "execution_count": null,
      "outputs": []
    },
    {
      "cell_type": "markdown",
      "metadata": {
        "id": "dwfHRNojhO5g",
        "colab_type": "text"
      },
      "source": [
        "**Creating Model**"
      ]
    },
    {
      "cell_type": "code",
      "metadata": {
        "id": "Hq0ej5yDZq2e",
        "colab_type": "code",
        "colab": {}
      },
      "source": [
        "# To import keras model and hidden layers for the Convolutional Neural Network (CNN)\n",
        "from keras.models import Sequential\n",
        "from keras.layers.convolutional import Conv2D, MaxPooling2D\n",
        "from keras.layers import Dense, Flatten"
      ],
      "execution_count": null,
      "outputs": []
    },
    {
      "cell_type": "code",
      "metadata": {
        "id": "iMiPmBWLYrkG",
        "colab_type": "code",
        "colab": {}
      },
      "source": [
        "# To construct the model\n",
        "\n",
        "model = Sequential()\n",
        "model.add(Conv2D(32, (5, 5), activation='relu', input_shape=(120, 320, 1))) \n",
        "model.add(MaxPooling2D((2, 2)))\n",
        "model.add(Conv2D(64, (3, 3), activation='relu')) \n",
        "model.add(MaxPooling2D((2, 2)))\n",
        "model.add(Conv2D(64, (3, 3), activation='relu'))\n",
        "model.add(MaxPooling2D((2, 2)))\n",
        "model.add(Flatten())\n",
        "model.add(Dense(128, activation='relu'))\n",
        "model.add(Dense(10, activation='softmax'))"
      ],
      "execution_count": 10,
      "outputs": []
    },
    {
      "cell_type": "code",
      "metadata": {
        "id": "amOpISRiYw3z",
        "colab_type": "code",
        "colab": {}
      },
      "source": [
        "# To configure the model for training\n",
        "\n",
        "model.compile(optimizer='adam', loss='sparse_categorical_crossentropy', metrics=['accuracy'])"
      ],
      "execution_count": 11,
      "outputs": []
    },
    {
      "cell_type": "code",
      "metadata": {
        "id": "GMzJWqkGbkYl",
        "colab_type": "code",
        "colab": {}
      },
      "source": [
        "# To train the model\n",
        "\n",
        "model.fit(X, Y, epochs=5, batch_size=64, verbose=2, validation_data=(X, Y))"
      ],
      "execution_count": null,
      "outputs": []
    },
    {
      "cell_type": "code",
      "metadata": {
        "id": "n1zE7Dn4fJt0",
        "colab_type": "code",
        "colab": {}
      },
      "source": [
        "# To save the model as an HDF5 file\n",
        "\n",
        "model.save('GestureRecognition.h5')"
      ],
      "execution_count": null,
      "outputs": []
    }
  ]
}