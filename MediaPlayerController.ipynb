{
  "nbformat": 4,
  "nbformat_minor": 0,
  "metadata": {
    "colab": {
      "name": "MediaPlayerController.ipynb",
      "provenance": [],
      "collapsed_sections": [],
      "authorship_tag": "ABX9TyPs0XyNfzdyJND8yTczc24S",
      "include_colab_link": true
    },
    "kernelspec": {
      "name": "python3",
      "display_name": "Python 3"
    }
  },
  "cells": [
    {
      "cell_type": "markdown",
      "metadata": {
        "id": "view-in-github",
        "colab_type": "text"
      },
      "source": [
        "<a href=\"https://colab.research.google.com/github/Rutuja-Kolte/CodeBrewers/blob/master/MediaPlayerController.ipynb\" target=\"_parent\"><img src=\"https://colab.research.google.com/assets/colab-badge.svg\" alt=\"Open In Colab\"/></a>"
      ]
    },
    {
      "cell_type": "code",
      "metadata": {
        "id": "l20Rj1HP7LB-",
        "colab_type": "code",
        "colab": {}
      },
      "source": [
        "from google.colab import files\n",
        "import os\n",
        "import tensorflow as tf\n",
        "from tensorflow import keras\n",
        "import numpy as np\n",
        "import cv2\n",
        "import pandas as pd\n",
        "from google.colab.patches import cv2_imshow"
      ],
      "execution_count": 1,
      "outputs": []
    },
    {
      "cell_type": "code",
      "metadata": {
        "id": "e20hNMB9sbGN",
        "colab_type": "code",
        "colab": {
          "base_uri": "https://localhost:8080/",
          "height": 122
        },
        "outputId": "35e71982-4542-492b-8ef8-67e639a64a06"
      },
      "source": [
        "from google.colab import drive\n",
        "drive.mount('/content/drive')"
      ],
      "execution_count": 2,
      "outputs": [
        {
          "output_type": "stream",
          "text": [
            "Go to this URL in a browser: https://accounts.google.com/o/oauth2/auth?client_id=947318989803-6bn6qk8qdgf4n4g3pfee6491hc0brc4i.apps.googleusercontent.com&redirect_uri=urn%3aietf%3awg%3aoauth%3a2.0%3aoob&response_type=code&scope=email%20https%3a%2f%2fwww.googleapis.com%2fauth%2fdocs.test%20https%3a%2f%2fwww.googleapis.com%2fauth%2fdrive%20https%3a%2f%2fwww.googleapis.com%2fauth%2fdrive.photos.readonly%20https%3a%2f%2fwww.googleapis.com%2fauth%2fpeopleapi.readonly\n",
            "\n",
            "Enter your authorization code:\n",
            "··········\n",
            "Mounted at /content/drive\n"
          ],
          "name": "stdout"
        }
      ]
    },
    {
      "cell_type": "code",
      "metadata": {
        "id": "73sCGCnDsgw0",
        "colab_type": "code",
        "colab": {}
      },
      "source": [
        "!ln -s \"/content/drive/My Drive/CodeBrewers\" \"/content/CodeBrewers\""
      ],
      "execution_count": 3,
      "outputs": []
    },
    {
      "cell_type": "code",
      "metadata": {
        "id": "Lzdh8xGTNQaj",
        "colab_type": "code",
        "colab": {}
      },
      "source": [
        "model = keras.models.load_model('/content/CodeBrewers/GestureRecognition.h5')"
      ],
      "execution_count": 4,
      "outputs": []
    },
    {
      "cell_type": "code",
      "metadata": {
        "colab_type": "code",
        "id": "SucxddsPhOmj",
        "colab": {}
      },
      "source": [
        "from IPython.display import display, Javascript\n",
        "from google.colab.output import eval_js\n",
        "from base64 import b64decode\n",
        "\n",
        "def take_photo(filename='photo.jpg', quality=0.8):\n",
        "  js = Javascript('''\n",
        "    async function takePhoto(quality) {\n",
        "      //const div = document.createElement('div');\n",
        "\n",
        "      const video = document.createElement('video');\n",
        "      video.style.display = 'block';\n",
        "      const stream = await navigator.mediaDevices.getUserMedia({video: true});\n",
        "\n",
        "      //document.body.appendChild(div);\n",
        "      //div.appendChild(video);\n",
        "      video.srcObject = stream;\n",
        "      await video.play();\n",
        "\n",
        "      // Resize the output to fit the video element.\n",
        "      google.colab.output.setIframeHeight(document.documentElement.scrollHeight, true);\n",
        "\n",
        "\n",
        "\n",
        "      const canvas = document.createElement('canvas');\n",
        "      canvas.width = video.videoWidth;\n",
        "      canvas.height = video.videoHeight;\n",
        "      canvas.getContext('2d').drawImage(video, 0, 0);\n",
        "      stream.getVideoTracks()[0].stop();\n",
        "      //div.remove();\n",
        "      return canvas.toDataURL('image/jpeg', quality);\n",
        "    }\n",
        "    ''')\n",
        "  display(js)\n",
        "  data = eval_js('takePhoto({})'.format(quality))\n",
        "  binary = b64decode(data.split(',')[1])\n",
        "  with open(filename, 'wb') as f:\n",
        "    f.write(binary)\n",
        "  return filename"
      ],
      "execution_count": 5,
      "outputs": []
    },
    {
      "cell_type": "code",
      "metadata": {
        "colab_type": "code",
        "id": "buJCl90WhNfq",
        "colab": {}
      },
      "source": [
        "from IPython.display import Image\n",
        "gesture = (\"down\", \"palm\", \"l\", \"fist\", \"fist_moved\", \"thumb\", \"index\", \"ok\", \"palm_moved\", \"c\")\n",
        "filename = take_photo()\n",
        "img = cv2.imread('/content/photo.jpg')\n",
        "img = cv2.cvtColor(img, cv2.COLOR_BGR2GRAY)\n",
        "img = cv2.resize(img, (320, 120))\n",
        "img = np.array(img)\n",
        "img = np.reshape(img, (120,320,1))\n",
        "averageValue1 = np.float32(img)\n",
        "while True:\n",
        "  try:\n",
        "    filename = take_photo()\n",
        "    img = cv2.imread('/content/photo.jpg')\n",
        "    img = cv2.cvtColor(img, cv2.COLOR_BGR2GRAY)\n",
        "    img = cv2.resize(img, (320, 120))\n",
        "    img = np.array(img)\n",
        "    img = np.reshape(img, (120,320,1))\n",
        "    cv2.accumulateWeighted(img, averageValue1, 0.02)  \n",
        "    resultingFrames1 = cv2.convertScaleAbs(averageValue1) \n",
        "    resultingFrames1 = np.reshape(resultingFrames1, (120,320,1))\n",
        "    cv2_imshow(img)\n",
        "    cv2_imshow(resultingFrames1)\n",
        "    m = cv2.subtract(img,resultingFrames1)\n",
        "    m = np.reshape(m, (120,320,1))\n",
        "    cv2_imshow(m)\n",
        "    prediction = model.predict(np.expand_dims(m, axis = 0))\n",
        "    ans = np.argmax(prediction[0])\n",
        "    print(prediction[0][ans])\n",
        "    print(gesture[ans])\n",
        "  except Exception as err:\n",
        "    # Errors will be thrown if the user does not have a webcam or if they do not\n",
        "    # grant the page permission to access it.\n",
        "    print(str(err))"
      ],
      "execution_count": null,
      "outputs": []
    },
    {
      "cell_type": "code",
      "metadata": {
        "id": "3zfKXpGACXlY",
        "colab_type": "code",
        "colab": {}
      },
      "source": [
        "averageValue1 = np.float32(img) \n",
        "  \n",
        "# loop runs if capturing has been initialized.  \n",
        "while(1): \n",
        "    # reads frames from a camera  \n",
        "    _, img = cap.read() \n",
        "      \n",
        "    # using the cv2.accumulateWeighted() function \n",
        "    # that updates the running average \n",
        "    cv2.accumulateWeighted(img, averageValue1, 0.02) \n",
        "      \n",
        "    # converting the matrix elements to absolute values  \n",
        "    # and converting the result to 8-bit.  \n",
        "    resultingFrames1 = cv2.convertScaleAbs(averageValue1) \n",
        "  \n",
        "    # Show two output windows \n",
        "    # the input / original frames window \n",
        "    cv2.imshow('InputWindow', img) \n",
        "  \n",
        "    # the window showing output of alpha value 0.02 \n",
        "    cv2.imshow('averageValue1', resultingFrames1)"
      ],
      "execution_count": null,
      "outputs": []
    }
  ]
}